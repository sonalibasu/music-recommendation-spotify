{
  "nbformat": 4,
  "nbformat_minor": 0,
  "metadata": {
    "colab": {
      "provenance": [],
      "authorship_tag": "ABX9TyMVyE+nnJKRiv52qwZJwc2s",
      "include_colab_link": true
    },
    "kernelspec": {
      "name": "python3",
      "display_name": "Python 3"
    },
    "language_info": {
      "name": "python"
    }
  },
  "cells": [
    {
      "cell_type": "markdown",
      "metadata": {
        "id": "view-in-github",
        "colab_type": "text"
      },
      "source": [
        "<a href=\"https://colab.research.google.com/github/sonalibasu/music-recommendation-spotify/blob/main/extract_process_predict.ipynb\" target=\"_parent\"><img src=\"https://colab.research.google.com/assets/colab-badge.svg\" alt=\"Open In Colab\"/></a>"
      ]
    },
    {
      "cell_type": "markdown",
      "source": [
        "# **IMT 575: Spotify Music Mood Classification**"
      ],
      "metadata": {
        "id": "pA9x4l6LrNy_"
      }
    },
    {
      "cell_type": "code",
      "source": [
        "# Optional Code Block: Execute to install required packages\n",
        "!pip install spotipy\n",
        "!pip install getpass"
      ],
      "metadata": {
        "id": "uJN0h0sxriS9",
        "colab": {
          "base_uri": "https://localhost:8080/"
        },
        "outputId": "90d7773a-62cb-425c-d414-619e3b547edf"
      },
      "execution_count": null,
      "outputs": [
        {
          "output_type": "stream",
          "name": "stdout",
          "text": [
            "Looking in indexes: https://pypi.org/simple, https://us-python.pkg.dev/colab-wheels/public/simple/\n",
            "Requirement already satisfied: spotipy in /usr/local/lib/python3.10/dist-packages (2.23.0)\n",
            "Requirement already satisfied: redis>=3.5.3 in /usr/local/lib/python3.10/dist-packages (from spotipy) (4.5.5)\n",
            "Requirement already satisfied: requests>=2.25.0 in /usr/local/lib/python3.10/dist-packages (from spotipy) (2.27.1)\n",
            "Requirement already satisfied: six>=1.15.0 in /usr/local/lib/python3.10/dist-packages (from spotipy) (1.16.0)\n",
            "Requirement already satisfied: urllib3>=1.26.0 in /usr/local/lib/python3.10/dist-packages (from spotipy) (1.26.15)\n",
            "Requirement already satisfied: async-timeout>=4.0.2 in /usr/local/lib/python3.10/dist-packages (from redis>=3.5.3->spotipy) (4.0.2)\n",
            "Requirement already satisfied: certifi>=2017.4.17 in /usr/local/lib/python3.10/dist-packages (from requests>=2.25.0->spotipy) (2022.12.7)\n",
            "Requirement already satisfied: charset-normalizer~=2.0.0 in /usr/local/lib/python3.10/dist-packages (from requests>=2.25.0->spotipy) (2.0.12)\n",
            "Requirement already satisfied: idna<4,>=2.5 in /usr/local/lib/python3.10/dist-packages (from requests>=2.25.0->spotipy) (3.4)\n",
            "Looking in indexes: https://pypi.org/simple, https://us-python.pkg.dev/colab-wheels/public/simple/\n",
            "\u001b[31mERROR: Could not find a version that satisfies the requirement getpass (from versions: none)\u001b[0m\u001b[31m\n",
            "\u001b[0m\u001b[31mERROR: No matching distribution found for getpass\u001b[0m\u001b[31m\n",
            "\u001b[0m"
          ]
        }
      ]
    },
    {
      "cell_type": "code",
      "source": [
        "import pandas as pd\n",
        "import numpy as np\n",
        "import spotipy\n",
        "import getpass\n",
        "from spotipy.oauth2 import SpotifyClientCredentials\n",
        "#Authentication - without use\n",
        "cid = getpass.getpass(prompt=\"Enter Spotify Developer Client Credentials\")\n",
        "secret = getpass.getpass(prompt=\"Enter Spotify Developer Client Secret\")\n",
        "\n",
        "\n",
        "client_credentials_manager = SpotifyClientCredentials(client_id=cid, client_secret=secret)\n",
        "sp = spotipy.Spotify(client_credentials_manager = client_credentials_manager)"
      ],
      "metadata": {
        "colab": {
          "base_uri": "https://localhost:8080/"
        },
        "id": "HOIyGRbgqsmo",
        "outputId": "18a4814b-adb7-41f2-9e10-3b339a23c01e"
      },
      "execution_count": null,
      "outputs": [
        {
          "name": "stdout",
          "output_type": "stream",
          "text": [
            "Enter Spotify Developer Client Credentials··········\n",
            "Enter Spotify Developer Client Secret··········\n"
          ]
        }
      ]
    },
    {
      "cell_type": "markdown",
      "source": [],
      "metadata": {
        "id": "2N6Mj-8nd_Nh"
      }
    },
    {
      "cell_type": "code",
      "source": [
        "# Source 2: Get Songs From Mood Playlists\n",
        "def get_playlist_track_uris(playlists:list) -> list:\n",
        "    track_uri = []\n",
        "    for playlist in playlists:\n",
        "        track_uri.extend([x[\"track\"][\"uri\"] for x in\n",
        "                          sp.playlist_tracks(playlist)[\"items\"]])\n",
        "    return track_uri\n",
        "\n",
        "def extract_song_information_from_playlist(playlists:list, mood):\n",
        "    \"\"\"\n",
        "    Given the uris of one or more playlists OR tracks, the function extracts and creates a dataframe\n",
        "    of song details and quantitative features.\n",
        "    \"\"\"\n",
        "    song_list = []\n",
        "    for playlist_uri in playlists:\n",
        "        tracks = sp.playlist_tracks(playlist_uri)[\"items\"]\n",
        "        for track in tracks:\n",
        "            song = {}\n",
        "            song['mood'] = mood\n",
        "            #Song & Artist information, popularity, genre\n",
        "            song['track_id'] = track[\"track\"][\"uri\"].split(':')[-1]\n",
        "            song['artists'] = track[\"track\"][\"artists\"][0][\"name\"]\n",
        "            song['album_name'] = track[\"track\"][\"album\"][\"name\"]\n",
        "            song['track_name'] = track[\"track\"][\"name\"]\n",
        "            song['popularity'] = track['track'][\"popularity\"]\n",
        "            song['duration_ms'] = track[\"track\"][\"duration_ms\"]\n",
        "            song['explicit'] = track[\"track\"][\"explicit\"]\n",
        "            audio_features = ['danceability','energy','key','loudness','mode','speechiness',\n",
        "                             'acousticness','instrumentalness','liveness','valence','tempo']\n",
        "            song_metrics = sp.audio_features(song['track_id'])[0]\n",
        "            for feature, value in song_metrics.items():\n",
        "                if feature in audio_features:\n",
        "                    song[feature] = song_metrics[feature]\n",
        "            # Artist API endpoint for genre\n",
        "            song['track_genre'] = sp.artist(track[\"track\"][\"artists\"][0][\"uri\"])[\"genres\"]\n",
        "            # Picks the single top genre for each song\n",
        "            if song['track_genre'] == []:\n",
        "                song['track_genre'] = None\n",
        "            else:\n",
        "                song['track_genre'] = song['track_genre'][0]\n",
        "            song_list.append(song)\n",
        "    # List of dicts -> pd df\n",
        "    df = pd.DataFrame(song_list)\n",
        "    return df\n"
      ],
      "metadata": {
        "id": "BFhExF0XtMEJ"
      },
      "execution_count": null,
      "outputs": []
    },
    {
      "cell_type": "markdown",
      "source": [
        "# Extracting songs from mood playlists titled \"sad\":  \n",
        "1) \"Sad Songs - Songs for a broken heart\"  \n",
        "URL: https://open.spotify.com/playlist/37i9dQZF1DX7qK8ma5wgG1  \n",
        "2) \"Life Sucks - Having a bad day? We know how it feels!\"  \n",
        "URL: https://open.spotify.com/playlist/37i9dQZF1DX3YSRoSdA634  \n",
        "3) \"Sad Hour - Somehow heartbreak feels good in a place like this\"  \n",
        "URL: https://open.spotify.com/playlist/37i9dQZF1DWSqBruwoIXkA  "
      ],
      "metadata": {
        "id": "1MkYgLrZu8ng"
      }
    },
    {
      "cell_type": "code",
      "source": [
        "%%time\n",
        "### SAD LABEL\n",
        "playlists = ['37i9dQZF1DX7qK8ma5wgG1','37i9dQZF1DWSqBruwoIXkA', '37i9dQZF1DX3YSRoSdA634']\n",
        "sad_df = extract_song_information_from_playlist(playlists,'sad')\n",
        "print(f\"sad_df shape = {sad_df.shape} songs.\")\n",
        "sad_df = sad_df.drop_duplicates()\n",
        "print(f\"Final no. of songs with mood label 'sad' after deduplication = {sad_df.shape[0]} songs.\")"
      ],
      "metadata": {
        "id": "alrYBDzJug0a",
        "colab": {
          "base_uri": "https://localhost:8080/"
        },
        "outputId": "07a0951e-8e02-49e0-a3b4-1ad59f8dd198"
      },
      "execution_count": null,
      "outputs": [
        {
          "output_type": "stream",
          "name": "stdout",
          "text": [
            "sad_df shape = (280, 20) songs.\n",
            "Final no. of songs with mood label 'sad' after deduplication = 240 songs.\n",
            "CPU times: user 1.79 s, sys: 170 ms, total: 1.96 s\n",
            "Wall time: 36.6 s\n"
          ]
        }
      ]
    },
    {
      "cell_type": "code",
      "source": [
        "%%time\n",
        "### HAPPY LABEL\n",
        "playlists = ['37i9dQZF1DWYBO1MoTDhZI','37i9dQZF1DXdPec7aLTmlC', '37i9dQZF1DX7KNKjOK0o75']\n",
        "happy_df = extract_song_information_from_playlist(playlists,'happy')\n",
        "print(f\"sad_df shape = {happy_df.shape} songs.\")\n",
        "happy_df = happy_df.drop_duplicates()\n",
        "print(f\"Final no. of songs with mood label 'happy' after deduplication = {happy_df.shape[0]} songs.\")"
      ],
      "metadata": {
        "id": "Zw4arNZVyZJB",
        "colab": {
          "base_uri": "https://localhost:8080/"
        },
        "outputId": "782991c9-d5e1-4577-db2f-400e7e21c1e5"
      },
      "execution_count": null,
      "outputs": [
        {
          "output_type": "stream",
          "name": "stdout",
          "text": [
            "sad_df shape = (260, 20) songs.\n",
            "Final no. of songs with mood label 'happy' after deduplication = 250 songs.\n",
            "CPU times: user 1.55 s, sys: 155 ms, total: 1.7 s\n",
            "Wall time: 50.2 s\n"
          ]
        }
      ]
    },
    {
      "cell_type": "code",
      "source": [
        "%%time\n",
        "### LOVE LABEL\n",
        "playlists = ['37i9dQZF1DX5IDTimEWoTd','37i9dQZF1DXbEm2sKzgoJ8', '37i9dQZF1DX6mvEU1S6INL']\n",
        "love_df = extract_song_information_from_playlist(playlists,'love')\n",
        "print(f\"love_df shape = {love_df.shape} songs.\")\n",
        "love_df = love_df.drop_duplicates()\n",
        "print(f\"Final no. of songs with mood label 'love' after deduplication = {love_df.shape[0]} songs.\")"
      ],
      "metadata": {
        "id": "8h4rwhIJDTBr",
        "colab": {
          "base_uri": "https://localhost:8080/"
        },
        "outputId": "e34172a3-1309-4b18-ac3e-f6ecb44e662f"
      },
      "execution_count": null,
      "outputs": [
        {
          "output_type": "stream",
          "name": "stdout",
          "text": [
            "love_df shape = (300, 20) songs.\n",
            "Final no. of songs with mood label 'love' after deduplication = 295 songs.\n",
            "CPU times: user 1.79 s, sys: 151 ms, total: 1.94 s\n",
            "Wall time: 59.5 s\n"
          ]
        }
      ]
    },
    {
      "cell_type": "code",
      "source": [
        "%%time\n",
        "### DANCE LABEL\n",
        "playlists = ['37i9dQZF1DXa2PvUpywmrr','37i9dQZF1DXaXB8fQg7xif', '37i9dQZF1DX5I05jXm1F2M']\n",
        "party_df = extract_song_information_from_playlist(playlists,'party')\n",
        "print(f\"party_df shape = {party_df.shape} songs.\")\n",
        "party_df = party_df.drop_duplicates()\n",
        "print(f\"Final no. of songs with mood label 'party' after deduplication = {party_df.shape[0]} songs.\")"
      ],
      "metadata": {
        "id": "RHIh7lFGD0NZ",
        "colab": {
          "base_uri": "https://localhost:8080/"
        },
        "outputId": "578a0ca4-866b-4f7a-bc69-bf5d97c871be"
      },
      "execution_count": null,
      "outputs": [
        {
          "output_type": "stream",
          "name": "stdout",
          "text": [
            "party_df shape = (290, 20) songs.\n",
            "Final no. of songs with mood label 'party' after deduplication = 279 songs.\n",
            "CPU times: user 1.65 s, sys: 172 ms, total: 1.83 s\n",
            "Wall time: 48.2 s\n"
          ]
        }
      ]
    },
    {
      "cell_type": "code",
      "source": [
        "%%time\n",
        "### CALM LABEL\n",
        "playlists = ['37i9dQZF1DX889U0CL85jj','37i9dQZF1DX6QClArDhvcW', '37i9dQZF1DX6ziVCJnEm59']\n",
        "calm_df = extract_song_information_from_playlist(playlists,'calm')\n",
        "print(f\"calm_df shape = {calm_df.shape} songs.\")\n",
        "calm_df = calm_df.drop_duplicates()\n",
        "print(f\"Final no. of songs with mood label 'calm' after deduplication = {calm_df.shape[0]} songs.\")"
      ],
      "metadata": {
        "id": "zh9ZgZJEENs7",
        "colab": {
          "base_uri": "https://localhost:8080/"
        },
        "outputId": "e5ca043e-7713-4d47-fa44-ae4455793855"
      },
      "execution_count": null,
      "outputs": [
        {
          "output_type": "stream",
          "name": "stdout",
          "text": [
            "calm_df shape = (300, 20) songs.\n",
            "Final no. of songs with mood label 'calm' after deduplication = 300 songs.\n",
            "CPU times: user 1.74 s, sys: 180 ms, total: 1.92 s\n",
            "Wall time: 51.2 s\n"
          ]
        }
      ]
    },
    {
      "cell_type": "code",
      "source": [
        "df = pd.concat([sad_df, happy_df,love_df,party_df,calm_df])\n"
      ],
      "metadata": {
        "id": "28uhZtNXJrrq"
      },
      "execution_count": null,
      "outputs": []
    },
    {
      "cell_type": "code",
      "source": [
        "import numpy as np\n",
        "import matplotlib.pyplot as plt\n",
        "from sklearn.model_selection import train_test_split\n",
        "from sklearn.metrics import accuracy_score\n",
        "from sklearn.neural_network import MLPClassifier\n",
        "from sklearn.feature_extraction.text import CountVectorizer\n",
        "from sklearn.preprocessing import LabelEncoder\n",
        "from sklearn.preprocessing import StandardScaler\n",
        "\n",
        "# Data preprocessing\n",
        "df.dropna(subset=['track_genre'], inplace=True)  # Remove rows with missing track_genre\n",
        "df.reset_index(drop=True, inplace=True)\n",
        "\n",
        "text_data = df['artists'] + ' ' + df['track_genre']\n",
        "vectorizer = CountVectorizer()\n",
        "X_text = vectorizer.fit_transform(text_data)\n",
        "X_numerical = df[['danceability', 'energy', 'key', 'loudness', 'mode', 'speechiness',\n",
        "                  'acousticness', 'instrumentalness', 'liveness', 'valence', 'tempo', 'explicit']]\n",
        "scaler = StandardScaler()\n",
        "X_numerical_scaled = scaler.fit_transform(X_numerical)\n",
        "X = np.concatenate((X_text.toarray(), X_numerical_scaled), axis=1)\n",
        "y = df['mood']\n",
        "label_encoder = LabelEncoder()\n",
        "y_encoded = label_encoder.fit_transform(y)\n",
        "\n",
        "X_train, X_test, y_train, y_test = train_test_split(X, y_encoded, test_size=0.2, random_state=24)\n",
        "\n",
        "# Model training and evaluation\n",
        "classifier = MLPClassifier(hidden_layer_sizes=(100, 50), activation='relu',\n",
        "                           max_iter=1000, random_state=24, alpha=1)\n",
        "classifier.fit(X_train, y_train)\n",
        "y_pred = classifier.predict(X_test)\n",
        "accuracy = accuracy_score(y_test, y_pred)\n",
        "print(\"Test Accuracy:\", accuracy)"
      ],
      "metadata": {
        "id": "NfJGOa_5bm-6",
        "colab": {
          "base_uri": "https://localhost:8080/"
        },
        "outputId": "6bd2dc29-be6c-4d9a-f597-7c231090a489"
      },
      "execution_count": null,
      "outputs": [
        {
          "output_type": "stream",
          "name": "stdout",
          "text": [
            "Test Accuracy: 0.5809128630705395\n"
          ]
        }
      ]
    },
    {
      "cell_type": "code",
      "source": [
        "def get_song_metrics(track_id):\n",
        "    song_metrics = sp.audio_features(track_id)[0]\n",
        "    # Get the song name from the track object\n",
        "    track = sp.track(track_id)\n",
        "    song_metrics['name'] = track['name']\n",
        "    # Access the artists' URIs from the track object\n",
        "    song_metrics['artists'] = sp.artist(track['artists'][0]['uri'])['name']\n",
        "    song_metrics['explicit'] = track[\"explicit\"]\n",
        "    # Get track genre\n",
        "    song_metrics['track_genre'] = sp.artist(track[\"artists\"][0][\"uri\"])[\"genres\"][0]\n",
        "    df = pd.DataFrame(song_metrics, index=[0])\n",
        "    return df\n",
        "\n",
        "def get_song_recommendations(song_metrics):\n",
        "  print(f\"Generating the mood label for '{song_metrics['name'][0]}' by {song_metrics['artists'][0]}\")\n",
        "  song_metrics.reset_index(drop=True, inplace=True)\n",
        "  text_data = song_metrics['artists'] + ' ' + song_metrics['track_genre']\n",
        "  #Generating bag of words\n",
        "  X_text = vectorizer.transform(text_data)\n",
        "  X_numerical = song_metrics[['danceability', 'energy', 'key', 'loudness', 'mode', 'speechiness',\n",
        "                    'acousticness', 'instrumentalness', 'liveness', 'valence', 'tempo', 'explicit']]\n",
        "  X_numerical_scaled = scaler.transform(X_numerical)\n",
        "  X = np.concatenate((X_text.toarray(), X_numerical_scaled), axis=1)\n",
        "  y_pred = classifier.predict(X)\n",
        "  predicted_mood = label_encoder.inverse_transform(y_pred)[0]\n",
        "  print(f\"Given that you're in the mood for {predicted_mood} songs, recommending similar songs:\")\n",
        "  random_rows = eval(predicted_mood+\"_df.sample(n=5)\")\n",
        "  for index, row in random_rows.iterrows():\n",
        "    print(f\"{row['track_name']} by {row['artists']}\" )\n",
        ""
      ],
      "metadata": {
        "id": "oXX6vBJl1pPD"
      },
      "execution_count": null,
      "outputs": []
    },
    {
      "cell_type": "code",
      "source": [
        "# Recommendation\n",
        "track_id = input(\"Enter the URI for song you're currently listening to!\\n\")\n",
        "song_metrics = get_song_metrics(track_id)\n",
        "get_song_recommendations(song_metrics)\n"
      ],
      "metadata": {
        "id": "Vj6btjNYnOQG"
      },
      "execution_count": null,
      "outputs": []
    },
    {
      "cell_type": "markdown",
      "source": [],
      "metadata": {
        "id": "WhOpXUlK9QYC"
      }
    },
    {
      "cell_type": "code",
      "source": [],
      "metadata": {
        "id": "cbwwGz7d5tIE"
      },
      "execution_count": null,
      "outputs": []
    }
  ]
}